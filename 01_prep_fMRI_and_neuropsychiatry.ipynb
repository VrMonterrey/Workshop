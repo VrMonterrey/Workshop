{
  "cells": [
    {
      "cell_type": "markdown",
      "metadata": {
        "id": "view-in-github",
        "colab_type": "text"
      },
      "source": [
        "<a href=\"https://colab.research.google.com/github/VrMonterrey/Workshop/blob/main/01_prep_fMRI_and_neuropsychiatry.ipynb\" target=\"_parent\"><img src=\"https://colab.research.google.com/assets/colab-badge.svg\" alt=\"Open In Colab\"/></a>"
      ]
    },
    {
      "cell_type": "markdown",
      "metadata": {
        "id": "uqqrWtRcrriv"
      },
      "source": [
        "# Preparatory exercises: Introduction to fMRI, neuroanatomy, and neuropsychiatry\n",
        "\n",
        "To understand the human brain, we need to analyze its signals. As the brain is hidden within the skull, there is a limited amount of methods available to extract brain signals (in the living human). We will learn mostly about fMRI here."
      ]
    },
    {
      "cell_type": "markdown",
      "metadata": {
        "id": "rq7mQ6Hkrri5"
      },
      "source": [
        "<div class=\"alert alert-block alert-success\">\n",
        "<b>Exercise 1 </b><p>\n",
        "Before we start with parcellating the fMRI data (i.e., grouping the signals to networks or regions with similar characteristics) and looking at the time series of each parcel, we need to prepare the data for the analysis. What do we need to do with the fMRI data before we can do the analysis?<p>\n",
        "\n",
        "Please work alone. Please look up preprocessing steps here: https://dartbrains.org/content/Preprocessing.html. Then go to the quiz below and match the pictures to the preprocessing terms. If you struggle, please consult your group members.\n",
        "    \n",
        "Link to exercise:    \n",
        "https://studio.frameworkconsulting.com/activity/65073/shared\n",
        "\n",
        "    \n",
        "<p>\n",
        " -End of exercise-\n",
        "    </div>"
      ]
    },
    {
      "cell_type": "markdown",
      "metadata": {
        "id": "xr50EUSgrri5"
      },
      "source": [
        "## Key points!\n",
        "\n",
        "- Any neuroimaging data is dirty and needs to be cleaned, aligned, and transformed before being analyzed.\n",
        "- There are standards in place which will allow you to effortlessly pull the data that you need for analysis.\n",
        "- If you plan to work with time series data, you usually need to apply a parcellation to group similar brain areas together."
      ]
    },
    {
      "cell_type": "markdown",
      "metadata": {
        "id": "p1x0zul9rrjN"
      },
      "source": [
        "## Neuroanatomy Basics\n",
        "<div class=\"alert alert-block alert-success\">\n",
        "<b>Exercise 2: Neuroanatomy</b><p>\n",
        "    \n",
        "Please read the following reference:\n",
        " https://ecampusontario.pressbooks.pub/testbookje/chapter/the-brain/\n",
        "    \n",
        "1. What are the names of the four main lobes of the brain? the occipital, temporal, parietal, and frontal lobes.\n",
        "2. What is inside gray matter? The gray matter is composed of the neuronal cell bodies (see module, “Neurons”). The cell bodies (or soma) contain the genes of the cell and are responsible for metabolism (keeping the cell alive) and synthesizing proteins. In this way, the cell body is the workhorse of the cell.\n",
        "3. What is inside white matter? The white matter is composed of the axons of the neurons, and, in particular, axons that are covered with a sheath of myelin (fatty support cells that are whitish in color). Axons conduct the electrical signals from the cell and are, therefore, critical to cell communication.\n",
        "4. What connects the left and right part of the brain? The two cerebral hemispheres are connected by a dense bundle of white matter tracts called the corpus callosum.\n",
        "5. What is the cerebellum and where is it located? The cerebellum is the distinctive structure at the back of the brain. The Greek philosopher and scientist Aristotle aptly referred to it as the “small brain” (“parencephalon” in Greek, “cerebellum” in Latin) in order to distinguish it from the “large brain” (“encephalon” in Greek, “cerebrum” in Latin). The cerebellum is critical for coordinated movement and posture. More recently, neuroimaging studies (see section “Studying the Human Brain” below) have implicated it in a range of cognitive abilities, including language. It is perhaps not surprising that the cerebellum’s influence extends beyond that of movement and posture, given that it contains the greatest number of neurons of any structure in the brain. However, the exact role it plays in these higher functions is still a matter of further study.\n",
        "    \n",
        "Please also assign the correct labels to the brain lobes:\n",
        "    https://studio.frameworkconsulting.com/activity/65137/shared"
      ]
    },
    {
      "cell_type": "markdown",
      "metadata": {
        "id": "-ZarGSxyrrjN"
      },
      "source": [
        "<div class=\"alert alert-block alert-success\">\n",
        "<b>Exercise 3: Brain Quiz</b><p>\n",
        "\n",
        "https://www.britannica.com/quiz/the-human-brain\n",
        "    \n",
        "</div>"
      ]
    },
    {
      "cell_type": "markdown",
      "metadata": {
        "id": "AmQ7jy75rrjN"
      },
      "source": [
        "## More information/additional reading material on fMRI analysis:\n",
        "\n",
        "https://andysbrainbook.readthedocs.io/en/latest/\n",
        "\n",
        "https://nilearn.github.io/user_guide.html"
      ]
    }
  ],
  "metadata": {
    "kernelspec": {
      "display_name": "Python 3",
      "language": "python",
      "name": "python3"
    },
    "language_info": {
      "codemirror_mode": {
        "name": "ipython",
        "version": 3
      },
      "file_extension": ".py",
      "mimetype": "text/x-python",
      "name": "python",
      "nbconvert_exporter": "python",
      "pygments_lexer": "ipython3",
      "version": "3.6.4"
    },
    "colab": {
      "provenance": [],
      "include_colab_link": true
    }
  },
  "nbformat": 4,
  "nbformat_minor": 0
}